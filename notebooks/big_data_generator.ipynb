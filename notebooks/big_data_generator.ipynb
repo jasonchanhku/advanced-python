{
 "cells": [
  {
   "cell_type": "markdown",
   "metadata": {},
   "source": [
    "### Generator for Big Data (modularizing data pipelines using generators)\n",
    "### Only using generators once is useful for CONSUMPTION\n",
    "\n",
    "Earlier, we discussed imposing a restriction on ourselves that forced us to use a generator to read our data instead of reading it into a list of lists. We cited the problem of Big Data and an our inability to store it all in one variable. While calling it a Big Data problem is still correct, you may also call it a memory problem.\n",
    "\n",
    "Let's say that you have an older laptop with about 4GB of RAM, random access memory. The true size of our beer data set is only about 3MB, but suppose that we asked everyone around the globe to give us their recipes, resulting in a data set around 3GB. If we were to read the entirety of our data set into a variable, it would take up a bit more than 3GB of RAM! This would leave us with little room for other operations, much less other variables of similar size. Storing our data in a list of lists would take up so much memory that any analyses we do would take excruciatingly long to do.\n",
    "\n",
    "We know now that generators produce a single value from a defined sequence, but only when we ask next() or within a for loop. We call this lazy evaluation. Generators are lazy because they only give us a value when we ask for it. The flipside here is that only that single value takes up memory. The ultimate result is that generators are incredibly memory efficient, which makes it a perfect candidate for reading and using Big Data files. Once we ask for the next value of a generator, the old value is discarded. Once we go through the entire generator, it is also discarded from memory as well.\n",
    "\n",
    "![](https://i.imgur.com/zDmeJgr.jpg)"
   ]
  },
  {
   "cell_type": "code",
   "execution_count": 9,
   "metadata": {},
   "outputs": [],
   "source": [
    "def beerDataGenerator():\n",
    "    file = \"recipeData.csv\"\n",
    "    for row in open(file, encoding=\"ISO-8859-1\"):\n",
    "        yield row\n",
    "\n",
    "beer = beerDataGenerator()"
   ]
  },
  {
   "cell_type": "markdown",
   "metadata": {},
   "source": [
    "### Generator expression version\n",
    "![](https://i.imgur.com/hPjtGB8.jpg)"
   ]
  },
  {
   "cell_type": "code",
   "execution_count": 64,
   "metadata": {},
   "outputs": [],
   "source": [
    "beer_data = \"recipeData.csv\"\n",
    "\n",
    "# generator 1 - to read in line by line\n",
    "lines = (line for line in open(beer_data, encoding=\"ISO-8859-1\"))\n",
    "\n",
    "# why not pass output of the first generator into another generator?\n",
    "# generator 2 - to process each line\n",
    "lists = (line.split(\",\") for line in lines)\n",
    "\n",
    "#take column names out out generator to store them\n",
    "columns = next(lists)\n",
    "\n",
    "# generator 3 - create a dictionary entry for each row\n",
    "beerdicts = (dict(zip(columns, data)) for data in lists)\n",
    "\n",
    "# generator 4 - gets ABV of American IPA\n",
    "abv = (float(bd[\"ABV\"]) for bd in beerdicts if bd[\"Style\"] == \"American IPA\")"
   ]
  },
  {
   "cell_type": "code",
   "execution_count": 55,
   "metadata": {},
   "outputs": [
    {
     "data": {
      "text/plain": [
       "['BeerID',\n",
       " 'Name',\n",
       " 'URL',\n",
       " 'Style',\n",
       " 'StyleID',\n",
       " 'Size(L)',\n",
       " 'OG',\n",
       " 'FG',\n",
       " 'ABV',\n",
       " 'IBU',\n",
       " 'Color',\n",
       " 'BoilSize',\n",
       " 'BoilTime',\n",
       " 'BoilGravity',\n",
       " 'Efficiency',\n",
       " 'MashThickness',\n",
       " 'SugarScale',\n",
       " 'BrewMethod',\n",
       " 'PitchRate',\n",
       " 'PrimaryTemp',\n",
       " 'PrimingMethod',\n",
       " 'PrimingAmount',\n",
       " 'UserId\\n']"
      ]
     },
     "execution_count": 55,
     "metadata": {},
     "output_type": "execute_result"
    }
   ],
   "source": [
    "columns"
   ]
  },
  {
   "cell_type": "code",
   "execution_count": 35,
   "metadata": {},
   "outputs": [
    {
     "data": {
      "text/plain": [
       "{'BeerID': '1',\n",
       " 'Name': 'Vanilla Cream Ale',\n",
       " 'URL': '/homebrew/recipe/view/1633/vanilla-cream-ale',\n",
       " 'Style': 'Cream Ale',\n",
       " 'StyleID': '45',\n",
       " 'Size(L)': '21.77',\n",
       " 'OG': '1.055',\n",
       " 'FG': '1.013',\n",
       " 'ABV': '5.48',\n",
       " 'IBU': '17.65',\n",
       " 'Color': '4.83',\n",
       " 'BoilSize': '28.39',\n",
       " 'BoilTime': '75',\n",
       " 'BoilGravity': '1.038',\n",
       " 'Efficiency': '70',\n",
       " 'MashThickness': 'N/A',\n",
       " 'SugarScale': 'Specific Gravity',\n",
       " 'BrewMethod': 'All Grain',\n",
       " 'PitchRate': 'N/A',\n",
       " 'PrimaryTemp': '17.78',\n",
       " 'PrimingMethod': 'corn sugar',\n",
       " 'PrimingAmount': '4.5 oz',\n",
       " 'UserId\\n': '116\\n'}"
      ]
     },
     "execution_count": 35,
     "metadata": {},
     "output_type": "execute_result"
    }
   ],
   "source": [
    "next(beerdicts)"
   ]
  },
  {
   "cell_type": "markdown",
   "metadata": {},
   "source": [
    "### Consuming the data and generating some insights"
   ]
  },
  {
   "cell_type": "code",
   "execution_count": 56,
   "metadata": {},
   "outputs": [],
   "source": [
    "# what is the most popular style of homebrewed beer?\n",
    "\n",
    "beer_counts = {}\n",
    "\n",
    "for bd in beerdicts:\n",
    "    if bd[\"Style\"] not in beer_counts:\n",
    "        beer_counts[bd[\"Style\"]] = 1\n",
    "    else:\n",
    "        beer_counts[bd[\"Style\"]] += 1"
   ]
  },
  {
   "cell_type": "code",
   "execution_count": 57,
   "metadata": {},
   "outputs": [],
   "source": [
    "import pandas as pd"
   ]
  },
  {
   "cell_type": "code",
   "execution_count": 61,
   "metadata": {},
   "outputs": [
    {
     "data": {
      "text/plain": [
       "American IPA                         11940\n",
       "American Pale Ale                     7581\n",
       "Saison                                2617\n",
       "American Light Lager                  2277\n",
       "American Amber Ale                    2038\n",
       "Blonde Ale                            1753\n",
       "Imperial IPA                          1478\n",
       "American Stout                        1268\n",
       "Irish Red Ale                         1204\n",
       "American Brown Ale                    1152\n",
       "Witbier                               1072\n",
       "California Common Beer                1044\n",
       "Weissbier                              988\n",
       "Oatmeal Stout                          961\n",
       "Russian Imperial Stout                 929\n",
       "Weizen/Weissbier                       919\n",
       "Sweet Stout                            919\n",
       "Robust Porter                          897\n",
       "Kölsch                                 869\n",
       "Double IPA                             864\n",
       "Cream Ale                              830\n",
       "American Porter                        787\n",
       "English IPA                            784\n",
       "Imperial Stout                         675\n",
       "Extra Special/Strong Bitter (ESB)      659\n",
       "American Wheat Beer                    654\n",
       "Specialty IPA: Black IPA               638\n",
       "Belgian Pale Ale                       625\n",
       "N/A                                    596\n",
       "American Wheat or Rye Beer             571\n",
       "                                     ...  \n",
       "Czech Dark Lager                        35\n",
       "German Helles Exportbier                33\n",
       "English Cider                           32\n",
       "Roggenbier                              32\n",
       "Czech Amber Lager                       32\n",
       "Oud Bruin                               31\n",
       "Tropical Stout                          31\n",
       "Kentucky Common                         30\n",
       "Pre-Prohibition Lager                   30\n",
       "Scottish Light 60/-                     25\n",
       "Sahti                                   22\n",
       "Fruit Cider                             22\n",
       "Alternative Sugar Beer                  21\n",
       "Eisbock                                 21\n",
       "German Leichtbier                       20\n",
       "Kellerbier: Amber Kellerbier            18\n",
       "Kellerbier: Pale Kellerbier             17\n",
       "Cyser (Apple Melomel)                   17\n",
       "Open Category Mead                      17\n",
       "Piwo Grodziskie                         15\n",
       "Metheglin                               14\n",
       "Pre-Prohibition Porter                  12\n",
       "Specialty Wood-Aged Beer                11\n",
       "London Brown Ale                         8\n",
       "New England Cider                        7\n",
       "Apple Wine                               6\n",
       "Lichtenhainer                            6\n",
       "Pyment (Grape Melomel)                   5\n",
       "French Cider                             2\n",
       "Traditional Perry                        2\n",
       "Length: 176, dtype: int64"
      ]
     },
     "execution_count": 61,
     "metadata": {},
     "output_type": "execute_result"
    }
   ],
   "source": [
    "pd.Series(beer_counts).sort_values(ascending=False)"
   ]
  },
  {
   "cell_type": "code",
   "execution_count": 65,
   "metadata": {},
   "outputs": [
    {
     "data": {
      "text/plain": [
       "6.44429396984925"
      ]
     },
     "execution_count": 65,
     "metadata": {},
     "output_type": "execute_result"
    }
   ],
   "source": [
    "# whats the average ABV of American IPA\n",
    "IPA_count = pd.Series(beer_counts).sort_values(ascending=False)[\"American IPA\"]\n",
    "sum(abv) / IPA_count"
   ]
  },
  {
   "cell_type": "markdown",
   "metadata": {},
   "source": [
    "# Conclusion\n",
    "\n",
    "* Generators are memory efficient since they only require memory for the one value they yield.\n",
    "* Generators are lazy: they only yield values when explicitly asked.\n",
    "* You can feed the output of a generator to the input of another generator to form data pipelines.\n",
    "* Data pipelines can be modularized and customized to your needs.\n",
    "* Generators are useful for generating values ad infinitum."
   ]
  }
 ],
 "metadata": {
  "kernelspec": {
   "display_name": "Python 3",
   "language": "python",
   "name": "python3"
  },
  "language_info": {
   "codemirror_mode": {
    "name": "ipython",
    "version": 3
   },
   "file_extension": ".py",
   "mimetype": "text/x-python",
   "name": "python",
   "nbconvert_exporter": "python",
   "pygments_lexer": "ipython3",
   "version": "3.6.5"
  }
 },
 "nbformat": 4,
 "nbformat_minor": 2
}
