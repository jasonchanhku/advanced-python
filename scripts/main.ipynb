{
 "cells": [
  {
   "cell_type": "markdown",
   "metadata": {},
   "source": [
    "# Importing a class from a script\n",
    "Useful for Data Science OOP. Imagine multiple classes with main class, preprocessing class, gridsearch class, etc"
   ]
  },
  {
   "cell_type": "code",
   "execution_count": 1,
   "metadata": {},
   "outputs": [],
   "source": [
    "from kagglemember import KaggleMember"
   ]
  },
  {
   "cell_type": "code",
   "execution_count": 2,
   "metadata": {},
   "outputs": [
    {
     "data": {
      "text/plain": [
       "['__class__',\n",
       " '__delattr__',\n",
       " '__dict__',\n",
       " '__dir__',\n",
       " '__doc__',\n",
       " '__eq__',\n",
       " '__format__',\n",
       " '__ge__',\n",
       " '__getattribute__',\n",
       " '__gt__',\n",
       " '__hash__',\n",
       " '__init__',\n",
       " '__init_subclass__',\n",
       " '__le__',\n",
       " '__lt__',\n",
       " '__module__',\n",
       " '__ne__',\n",
       " '__new__',\n",
       " '__reduce__',\n",
       " '__reduce_ex__',\n",
       " '__repr__',\n",
       " '__setattr__',\n",
       " '__sizeof__',\n",
       " '__str__',\n",
       " '__subclasshook__',\n",
       " '__weakref__',\n",
       " '_set_level',\n",
       " 'display_member_info',\n",
       " 'display_number_of_member',\n",
       " 'kaggle_member_count',\n",
       " 'myclass_name']"
      ]
     },
     "execution_count": 2,
     "metadata": {},
     "output_type": "execute_result"
    }
   ],
   "source": [
    "dir(KaggleMember)"
   ]
  },
  {
   "cell_type": "code",
   "execution_count": 3,
   "metadata": {},
   "outputs": [
    {
     "name": "stdout",
     "output_type": "stream",
     "text": [
      "Kaggle Member Full Name:Serkan PELDEK\n",
      "Level:Expert         \n",
      "Kaggle ID: 1\n",
      "There are 1 members in Kaggle community\n"
     ]
    }
   ],
   "source": [
    "kaggler1=KaggleMember('SERkan','peldek','expert')\n",
    "kaggler1.display_member_info()\n",
    "kaggler1.display_number_of_member()"
   ]
  },
  {
   "cell_type": "code",
   "execution_count": 4,
   "metadata": {},
   "outputs": [
    {
     "name": "stdout",
     "output_type": "stream",
     "text": [
      "Kaggle Member Full Name:Kaan CAN\n",
      "Level:Grand Master   \n",
      "Kaggle ID: 2\n",
      "There are 2 members in Kaggle community\n"
     ]
    }
   ],
   "source": [
    "kaggler2=KaggleMember('kaan','can', 'grand master')\n",
    "kaggler2.display_member_info()\n",
    "kaggler1.display_number_of_member()"
   ]
  },
  {
   "cell_type": "code",
   "execution_count": 5,
   "metadata": {},
   "outputs": [
    {
     "name": "stdout",
     "output_type": "stream",
     "text": [
      "There are 2 members in Kaggle community\n"
     ]
    }
   ],
   "source": [
    "kaggler2.display_number_of_member()"
   ]
  },
  {
   "cell_type": "code",
   "execution_count": 6,
   "metadata": {},
   "outputs": [
    {
     "name": "stdout",
     "output_type": "stream",
     "text": [
      "Kaggle Member Full Name:Kral ADAM\n",
      "Level:Novice         \n",
      "Kaggle ID: 3\n",
      "There are 3 members in Kaggle community\n"
     ]
    }
   ],
   "source": [
    "kaggler3=KaggleMember('Kral','Adam')\n",
    "kaggler3.display_member_info()\n",
    "kaggler1.display_number_of_member()"
   ]
  },
  {
   "cell_type": "code",
   "execution_count": null,
   "metadata": {},
   "outputs": [],
   "source": []
  }
 ],
 "metadata": {
  "kernelspec": {
   "display_name": "Python 3",
   "language": "python",
   "name": "python3"
  },
  "language_info": {
   "codemirror_mode": {
    "name": "ipython",
    "version": 3
   },
   "file_extension": ".py",
   "mimetype": "text/x-python",
   "name": "python",
   "nbconvert_exporter": "python",
   "pygments_lexer": "ipython3",
   "version": "3.6.5"
  }
 },
 "nbformat": 4,
 "nbformat_minor": 2
}
