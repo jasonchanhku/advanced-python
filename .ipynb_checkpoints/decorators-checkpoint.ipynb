{
 "cells": [
  {
   "cell_type": "markdown",
   "metadata": {},
   "source": [
    "# Recap"
   ]
  },
  {
   "cell_type": "code",
   "execution_count": 1,
   "metadata": {},
   "outputs": [],
   "source": [
    "def outer_function():\n",
    "    message = 'Hi'\n",
    "    \n",
    "    def inner_function():\n",
    "        print(message)\n",
    "    # returns an executed function\n",
    "    return inner_function()"
   ]
  },
  {
   "cell_type": "code",
   "execution_count": 2,
   "metadata": {},
   "outputs": [
    {
     "name": "stdout",
     "output_type": "stream",
     "text": [
      "Hi\n"
     ]
    }
   ],
   "source": [
    "outer_function()"
   ]
  },
  {
   "cell_type": "code",
   "execution_count": 3,
   "metadata": {},
   "outputs": [],
   "source": [
    "def outer_function():\n",
    "    message = 'Hi'\n",
    "    \n",
    "    def inner_function():\n",
    "        print(message)\n",
    "    # returns an executed function\n",
    "    return inner_function"
   ]
  },
  {
   "cell_type": "code",
   "execution_count": 6,
   "metadata": {},
   "outputs": [],
   "source": [
    "my_func = outer_function()"
   ]
  },
  {
   "cell_type": "code",
   "execution_count": 8,
   "metadata": {},
   "outputs": [
    {
     "name": "stdout",
     "output_type": "stream",
     "text": [
      "Hi\n"
     ]
    }
   ],
   "source": [
    "my_func()"
   ]
  },
  {
   "cell_type": "code",
   "execution_count": 9,
   "metadata": {},
   "outputs": [],
   "source": [
    "def outer_function(msg):\n",
    "    message = msg\n",
    "    \n",
    "    def inner_function():\n",
    "        print(message)\n",
    "    # returns an executed function\n",
    "    return inner_function"
   ]
  },
  {
   "cell_type": "code",
   "execution_count": 12,
   "metadata": {},
   "outputs": [],
   "source": [
    "# equals to inner functions ready to be executed\n",
    "hi_func = outer_function(\"hi\")\n",
    "bye_func = outer_function(\"bye\")"
   ]
  },
  {
   "cell_type": "code",
   "execution_count": 13,
   "metadata": {},
   "outputs": [
    {
     "name": "stdout",
     "output_type": "stream",
     "text": [
      "hi\n",
      "bye\n"
     ]
    }
   ],
   "source": [
    "hi_func()\n",
    "bye_func()"
   ]
  },
  {
   "cell_type": "code",
   "execution_count": 14,
   "metadata": {},
   "outputs": [],
   "source": [
    "def outer_function(msg):\n",
    "    def inner_function():\n",
    "        print(msg)\n",
    "    # returns an executed function\n",
    "    return inner_function"
   ]
  },
  {
   "cell_type": "code",
   "execution_count": 15,
   "metadata": {},
   "outputs": [
    {
     "name": "stdout",
     "output_type": "stream",
     "text": [
      "hi\n",
      "bye\n"
     ]
    }
   ],
   "source": [
    "hi_func = outer_function(\"hi\")\n",
    "bye_func = outer_function(\"bye\")\n",
    "hi_func()\n",
    "bye_func()"
   ]
  },
  {
   "cell_type": "markdown",
   "metadata": {},
   "source": [
    "# Decorator\n",
    "* A function that takes another func as arg and adds functionality and return another function, without altering source code of function passed in"
   ]
  },
  {
   "cell_type": "code",
   "execution_count": 16,
   "metadata": {},
   "outputs": [],
   "source": [
    "def decorator_function(message):\n",
    "    \n",
    "    def wrapper_function():\n",
    "        print(message)\n",
    "    return wrapper_function"
   ]
  },
  {
   "cell_type": "code",
   "execution_count": 18,
   "metadata": {},
   "outputs": [
    {
     "name": "stdout",
     "output_type": "stream",
     "text": [
      "hi\n",
      "bye\n"
     ]
    }
   ],
   "source": [
    "hi_func = decorator_function(\"hi\")\n",
    "bye_func = decorator_function(\"bye\")\n",
    "hi_func()\n",
    "bye_func()"
   ]
  },
  {
   "cell_type": "markdown",
   "metadata": {},
   "source": [
    "### How to execute a function that is passed in ? thats what a decorator does"
   ]
  },
  {
   "cell_type": "code",
   "execution_count": 29,
   "metadata": {},
   "outputs": [
    {
     "name": "stdout",
     "output_type": "stream",
     "text": [
      "wrapper executed this before display\n",
      "Display function ran\n"
     ]
    }
   ],
   "source": [
    "def decorator_function(original_function):\n",
    "    def wrapper_function():\n",
    "        print(f\"wrapper executed this before {original_function.__name__}\")\n",
    "        return original_function()\n",
    "    \n",
    "    return wrapper_function\n",
    "\n",
    "# without modifying this\n",
    "def display():\n",
    "    print(\"Display function ran\")\n",
    "    \n",
    "\n",
    "# decorated display will be equal to the wrapper function waiting to be executed and then will execute original function\n",
    "display = decorator_function(display)\n",
    "display()"
   ]
  },
  {
   "cell_type": "markdown",
   "metadata": {},
   "source": [
    "### With the decorator syntax (@)"
   ]
  },
  {
   "cell_type": "code",
   "execution_count": 30,
   "metadata": {},
   "outputs": [
    {
     "name": "stdout",
     "output_type": "stream",
     "text": [
      "wrapper executed this before display\n",
      "Display function ran\n"
     ]
    }
   ],
   "source": [
    "def decorator_function(original_function):\n",
    "    def wrapper_function():\n",
    "        print(f\"wrapper executed this before {original_function.__name__}\")\n",
    "        return original_function()\n",
    "    \n",
    "    return wrapper_function\n",
    "\n",
    "@decorator_function\n",
    "def display():\n",
    "    print(\"Display function ran\")\n",
    "\n",
    "display()"
   ]
  },
  {
   "cell_type": "markdown",
   "metadata": {},
   "source": [
    "### Decorator with arguments"
   ]
  },
  {
   "cell_type": "code",
   "execution_count": 34,
   "metadata": {},
   "outputs": [
    {
     "ename": "TypeError",
     "evalue": "wrapper_function() takes 0 positional arguments but 2 were given",
     "output_type": "error",
     "traceback": [
      "\u001b[0;31m---------------------------------------------------------------------------\u001b[0m",
      "\u001b[0;31mTypeError\u001b[0m                                 Traceback (most recent call last)",
      "\u001b[0;32m<ipython-input-34-0667bda99f40>\u001b[0m in \u001b[0;36m<module>\u001b[0;34m()\u001b[0m\n\u001b[1;32m     14\u001b[0m     \u001b[0mprint\u001b[0m\u001b[0;34m(\u001b[0m\u001b[0;34mf\"display_info ran with arguments {name} and {age}\"\u001b[0m\u001b[0;34m)\u001b[0m\u001b[0;34m\u001b[0m\u001b[0m\n\u001b[1;32m     15\u001b[0m \u001b[0;34m\u001b[0m\u001b[0m\n\u001b[0;32m---> 16\u001b[0;31m \u001b[0mdisplay_info\u001b[0m\u001b[0;34m(\u001b[0m\u001b[0;34m'John'\u001b[0m\u001b[0;34m,\u001b[0m \u001b[0;36m25\u001b[0m\u001b[0;34m)\u001b[0m\u001b[0;34m\u001b[0m\u001b[0m\n\u001b[0m\u001b[1;32m     17\u001b[0m \u001b[0;31m# get error below so we need to pass positional or keyword arguments using *args and **kwargs\u001b[0m\u001b[0;34m\u001b[0m\u001b[0;34m\u001b[0m\u001b[0m\n",
      "\u001b[0;31mTypeError\u001b[0m: wrapper_function() takes 0 positional arguments but 2 were given"
     ]
    }
   ],
   "source": [
    "def decorator_function(original_function):\n",
    "    def wrapper_function():\n",
    "        print(f\"wrapper executed this before {original_function.__name__}\")\n",
    "        return original_function()\n",
    "    \n",
    "    return wrapper_function\n",
    "\n",
    "@decorator_function\n",
    "def display():\n",
    "    print(\"Display function ran\")\n",
    "\n",
    "@decorator_function\n",
    "def display_info(name, age):\n",
    "    print(f\"display_info ran with arguments {name} and {age}\")\n",
    "    \n",
    "display_info('John', 25)\n",
    "# get error below so we need to pass positional or keyword arguments using *args and **kwargs"
   ]
  },
  {
   "cell_type": "markdown",
   "metadata": {},
   "source": [
    "### args and kwargs allow in wrapper function us to accept any amount of keyword or positional arguments"
   ]
  },
  {
   "cell_type": "code",
   "execution_count": 36,
   "metadata": {},
   "outputs": [
    {
     "name": "stdout",
     "output_type": "stream",
     "text": [
      "wrapper executed this before display\n",
      "Display function ran\n",
      "wrapper executed this before display_info\n",
      "display_info ran with arguments John and 25\n"
     ]
    }
   ],
   "source": [
    "def decorator_function(original_function):\n",
    "    def wrapper_function(*args, **kwargs):\n",
    "        print(f\"wrapper executed this before {original_function.__name__}\")\n",
    "        return original_function(*args, **kwargs)\n",
    "    \n",
    "    return wrapper_function\n",
    "\n",
    "@decorator_function\n",
    "def display():\n",
    "    print(\"Display function ran\")\n",
    "\n",
    "@decorator_function\n",
    "def display_info(name, age):\n",
    "    print(f\"display_info ran with arguments {name} and {age}\")\n",
    "\n",
    "display()\n",
    "display_info('John', 25)\n",
    "# get error below so we need to pass positional or keyword arguments using *args and **kwargs"
   ]
  },
  {
   "cell_type": "markdown",
   "metadata": {},
   "source": [
    "### using classes as decorators"
   ]
  },
  {
   "cell_type": "code",
   "execution_count": 38,
   "metadata": {},
   "outputs": [
    {
     "name": "stdout",
     "output_type": "stream",
     "text": [
      "call method executed before display\n",
      "Display function ran\n",
      "call method executed before display_info\n",
      "display_info ran with arguments John and 25\n"
     ]
    }
   ],
   "source": [
    "class decorator_class(object):\n",
    "    \n",
    "    def __init__(self, original_function):\n",
    "        self.original_function = original_function\n",
    "        \n",
    "    def __call__(self, *args, **kwargs):\n",
    "        print(f\"call method executed before {self.original_function.__name__}\")\n",
    "        return self.original_function(*args, **kwargs)\n",
    "    \n",
    "\n",
    "@decorator_class\n",
    "def display():\n",
    "    print(\"Display function ran\")\n",
    "\n",
    "@decorator_class\n",
    "def display_info(name, age):\n",
    "    print(f\"display_info ran with arguments {name} and {age}\")\n",
    "\n",
    "display()\n",
    "display_info('John', 25)\n",
    "# get error below so we need to pass positional or keyword arguments using *args and **kwargs"
   ]
  },
  {
   "cell_type": "markdown",
   "metadata": {},
   "source": [
    "### practical examples of decorators"
   ]
  },
  {
   "cell_type": "markdown",
   "metadata": {},
   "source": [
    "### logging - keep track of how many times a function is run and what arguments were passed\n",
    "* imagine if we have many functions we one to keep track of\n",
    "* it would be very repetitive to just keep logging for every function\n",
    "* decorator helps to generalize these tasks"
   ]
  },
  {
   "cell_type": "code",
   "execution_count": 42,
   "metadata": {},
   "outputs": [],
   "source": [
    "def my_logger(orig_func):\n",
    "    import logging\n",
    "    logging.basicConfig(filename='{}.log'.format(orig_func.__name__), level=logging.INFO)\n",
    "\n",
    "    def wrapper(*args, **kwargs):\n",
    "        logging.info(\n",
    "            'Ran with args: {}, and kwargs: {}'.format(args, kwargs))\n",
    "        return orig_func(*args, **kwargs)\n",
    "\n",
    "    return wrapper\n",
    "\n",
    "@my_logger\n",
    "def display_info(name, age):\n",
    "    print(f\"display_info ran with arguments {name} and {age}\")"
   ]
  },
  {
   "cell_type": "code",
   "execution_count": 43,
   "metadata": {},
   "outputs": [
    {
     "name": "stdout",
     "output_type": "stream",
     "text": [
      "display_info ran with arguments John and 25\n",
      "display_info ran with arguments Jason and 30\n"
     ]
    }
   ],
   "source": [
    "display_info('John', 25)\n",
    "display_info('Jason', 30)"
   ]
  },
  {
   "cell_type": "markdown",
   "metadata": {},
   "source": [
    "### practical example - timing of functions"
   ]
  },
  {
   "cell_type": "code",
   "execution_count": 56,
   "metadata": {},
   "outputs": [],
   "source": [
    "def my_timer(orig_func):\n",
    "    import time\n",
    "    def wrapper(*args, **kwargs):\n",
    "        t1 = time.time()\n",
    "        result = orig_func(*args, **kwargs)\n",
    "        t2 = time.time() - t1\n",
    "        print(f\"{orig_func.__name__} ran in: {t2} secs\")\n",
    "        return result\n",
    "    \n",
    "    return wrapper"
   ]
  },
  {
   "cell_type": "code",
   "execution_count": 79,
   "metadata": {},
   "outputs": [],
   "source": [
    "@my_timer\n",
    "def display_info(name, age):\n",
    "    time.sleep(1)\n",
    "    print(f\"display_infsdsdo ran with arguments {name} and {age}\")"
   ]
  },
  {
   "cell_type": "code",
   "execution_count": 54,
   "metadata": {},
   "outputs": [
    {
     "name": "stdout",
     "output_type": "stream",
     "text": [
      "display_info ran with arguments Jason and 25\n",
      "display_info ran in: 1.0013561248779297 secs\n"
     ]
    }
   ],
   "source": [
    "display_info('Jason', 25)"
   ]
  },
  {
   "cell_type": "markdown",
   "metadata": {},
   "source": [
    "### What if you want to apply both the my_logger and my_timer decorator to the same function?\n",
    "* decorate all wrappers with wraps"
   ]
  },
  {
   "cell_type": "code",
   "execution_count": 60,
   "metadata": {},
   "outputs": [],
   "source": [
    "from functools import wraps"
   ]
  },
  {
   "cell_type": "code",
   "execution_count": 84,
   "metadata": {},
   "outputs": [],
   "source": [
    "def my_logger(orig_func):\n",
    "    import logging\n",
    "    print('executed')\n",
    "    logging.basicConfig(filename='{}.log'.format(orig_func.__name__), level=logging.INFO)\n",
    "    \n",
    "    @wraps(orig_func)\n",
    "    def wrapper(*args, **kwargs):\n",
    "        logging.info(\n",
    "            'Ran with args: {}, and kwargs: {}'.format(args, kwargs))\n",
    "        return orig_func(*args, **kwargs)\n",
    "\n",
    "    return wrapper\n",
    "\n",
    "def my_timer(orig_func):\n",
    "    import time\n",
    "    \n",
    "    @wraps(orig_func)\n",
    "    def wrapper(*args, **kwargs):\n",
    "        t1 = time.time()\n",
    "        result = orig_func(*args, **kwargs)\n",
    "        t2 = time.time() - t1\n",
    "        print(f\"{orig_func.__name__} ran in: {t2} secs\")\n",
    "        return result\n",
    "    \n",
    "    return wrapper"
   ]
  },
  {
   "cell_type": "code",
   "execution_count": 85,
   "metadata": {},
   "outputs": [
    {
     "name": "stdout",
     "output_type": "stream",
     "text": [
      "executed\n"
     ]
    }
   ],
   "source": [
    "@my_logger\n",
    "@my_timer\n",
    "def display_info_new(name, age):\n",
    "    time.sleep(1)\n",
    "    print(f\"display_info_new ran with arguments {name} and {age}\")"
   ]
  },
  {
   "cell_type": "code",
   "execution_count": 86,
   "metadata": {},
   "outputs": [
    {
     "name": "stdout",
     "output_type": "stream",
     "text": [
      "display_info new ran with arguments Mason and 56\n",
      "display_info_new ran in: 1.0022947788238525 secs\n"
     ]
    }
   ],
   "source": [
    "display_info_new('Mason', 56)"
   ]
  },
  {
   "cell_type": "code",
   "execution_count": null,
   "metadata": {},
   "outputs": [],
   "source": []
  }
 ],
 "metadata": {
  "kernelspec": {
   "display_name": "Python 3",
   "language": "python",
   "name": "python3"
  },
  "language_info": {
   "codemirror_mode": {
    "name": "ipython",
    "version": 3
   },
   "file_extension": ".py",
   "mimetype": "text/x-python",
   "name": "python",
   "nbconvert_exporter": "python",
   "pygments_lexer": "ipython3",
   "version": "3.6.5"
  }
 },
 "nbformat": 4,
 "nbformat_minor": 2
}
